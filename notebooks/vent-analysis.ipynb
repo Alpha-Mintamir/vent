{
 "cells": [
  {
   "cell_type": "markdown",
   "metadata": {},
   "source": [
    "# Vent Analysis"
   ]
  },
  {
   "cell_type": "code",
   "execution_count": 1,
   "metadata": {},
   "outputs": [],
   "source": [
    "import pandas as pd\n",
    "import numpy as np"
   ]
  },
  {
   "cell_type": "code",
   "execution_count": 2,
   "metadata": {},
   "outputs": [],
   "source": [
    "df = pd.read_csv('../data/cleaned_messages.csv')"
   ]
  },
  {
   "cell_type": "code",
   "execution_count": 4,
   "metadata": {},
   "outputs": [
    {
     "data": {
      "text/html": [
       "<div>\n",
       "<style scoped>\n",
       "    .dataframe tbody tr th:only-of-type {\n",
       "        vertical-align: middle;\n",
       "    }\n",
       "\n",
       "    .dataframe tbody tr th {\n",
       "        vertical-align: top;\n",
       "    }\n",
       "\n",
       "    .dataframe thead th {\n",
       "        text-align: right;\n",
       "    }\n",
       "</style>\n",
       "<table border=\"1\" class=\"dataframe\">\n",
       "  <thead>\n",
       "    <tr style=\"text-align: right;\">\n",
       "      <th></th>\n",
       "      <th>date</th>\n",
       "      <th>text</th>\n",
       "    </tr>\n",
       "  </thead>\n",
       "  <tbody>\n",
       "    <tr>\n",
       "      <th>20081</th>\n",
       "      <td>2024-11-24T05:00:31</td>\n",
       "      <td>['Hey Unihorse \\nI am ', {'type': 'mention_nam...</td>\n",
       "    </tr>\n",
       "    <tr>\n",
       "      <th>20082</th>\n",
       "      <td>2024-11-24T05:00:35</td>\n",
       "      <td>['Hey Unihorse \\nI am  Ketie\\nI need to vent\\n...</td>\n",
       "    </tr>\n",
       "    <tr>\n",
       "      <th>20083</th>\n",
       "      <td>2024-11-24T05:00:45</td>\n",
       "      <td>[\"Hey Unihorse \\nHide my Identity\\nI need to v...</td>\n",
       "    </tr>\n",
       "    <tr>\n",
       "      <th>20084</th>\n",
       "      <td>2024-11-24T05:00:46</td>\n",
       "      <td>[\"Hey Unihorse \\nHide my Identity\\nI need to v...</td>\n",
       "    </tr>\n",
       "    <tr>\n",
       "      <th>20085</th>\n",
       "      <td>2024-11-24T05:00:47</td>\n",
       "      <td>['Hey Unihorse \\nHide my Identity\\nI need to v...</td>\n",
       "    </tr>\n",
       "  </tbody>\n",
       "</table>\n",
       "</div>"
      ],
      "text/plain": [
       "                      date                                               text\n",
       "20081  2024-11-24T05:00:31  ['Hey Unihorse \\nI am ', {'type': 'mention_nam...\n",
       "20082  2024-11-24T05:00:35  ['Hey Unihorse \\nI am  Ketie\\nI need to vent\\n...\n",
       "20083  2024-11-24T05:00:45  [\"Hey Unihorse \\nHide my Identity\\nI need to v...\n",
       "20084  2024-11-24T05:00:46  [\"Hey Unihorse \\nHide my Identity\\nI need to v...\n",
       "20085  2024-11-24T05:00:47  ['Hey Unihorse \\nHide my Identity\\nI need to v..."
      ]
     },
     "execution_count": 4,
     "metadata": {},
     "output_type": "execute_result"
    }
   ],
   "source": [
    "df.tail()"
   ]
  }
 ],
 "metadata": {
  "kernelspec": {
   "display_name": "venv",
   "language": "python",
   "name": "python3"
  },
  "language_info": {
   "codemirror_mode": {
    "name": "ipython",
    "version": 3
   },
   "file_extension": ".py",
   "mimetype": "text/x-python",
   "name": "python",
   "nbconvert_exporter": "python",
   "pygments_lexer": "ipython3",
   "version": "3.8.0"
  }
 },
 "nbformat": 4,
 "nbformat_minor": 2
}
