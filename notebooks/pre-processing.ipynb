{
 "cells": [
  {
   "cell_type": "markdown",
   "metadata": {},
   "source": [
    "## Importing Libraries"
   ]
  },
  {
   "cell_type": "code",
   "execution_count": 1,
   "metadata": {},
   "outputs": [],
   "source": [
    "import pandas as pd\n",
    "import numpy as np\n",
    "import matplotlib.pyplot as plt\n",
    "import seaborn as sns"
   ]
  },
  {
   "cell_type": "code",
   "execution_count": 2,
   "metadata": {},
   "outputs": [],
   "source": [
    "import sys\n",
    "import os\n",
    "sys.path.append(os.path.abspath(os.path.join(os.getcwd(), '../scripts')))"
   ]
  },
  {
   "cell_type": "code",
   "execution_count": 3,
   "metadata": {},
   "outputs": [],
   "source": [
    "from preprocessing import *"
   ]
  },
  {
   "cell_type": "markdown",
   "metadata": {},
   "source": [
    "## Read the data"
   ]
  },
  {
   "cell_type": "code",
   "execution_count": 4,
   "metadata": {},
   "outputs": [],
   "source": [
    "df = pd.read_csv('../data/telegram_messages.csv')"
   ]
  },
  {
   "cell_type": "code",
   "execution_count": 5,
   "metadata": {},
   "outputs": [
    {
     "data": {
      "text/html": [
       "<div>\n",
       "<style scoped>\n",
       "    .dataframe tbody tr th:only-of-type {\n",
       "        vertical-align: middle;\n",
       "    }\n",
       "\n",
       "    .dataframe tbody tr th {\n",
       "        vertical-align: top;\n",
       "    }\n",
       "\n",
       "    .dataframe thead th {\n",
       "        text-align: right;\n",
       "    }\n",
       "</style>\n",
       "<table border=\"1\" class=\"dataframe\">\n",
       "  <thead>\n",
       "    <tr style=\"text-align: right;\">\n",
       "      <th></th>\n",
       "      <th>date</th>\n",
       "      <th>message</th>\n",
       "    </tr>\n",
       "  </thead>\n",
       "  <tbody>\n",
       "    <tr>\n",
       "      <th>0</th>\n",
       "      <td>2024-12-06 02:01:20</td>\n",
       "      <td>Hey Unihorse 🦄\\nHide my Identity\\nI need to ve...</td>\n",
       "    </tr>\n",
       "    <tr>\n",
       "      <th>1</th>\n",
       "      <td>2024-12-06 02:01:20</td>\n",
       "      <td>Hey Unihorse 🦄\\nHide my Identity\\nI need to ve...</td>\n",
       "    </tr>\n",
       "    <tr>\n",
       "      <th>2</th>\n",
       "      <td>2024-12-06 02:01:18</td>\n",
       "      <td>Hey Unihorse 🦄\\nHide my Identity\\nI need to ve...</td>\n",
       "    </tr>\n",
       "    <tr>\n",
       "      <th>3</th>\n",
       "      <td>2024-12-06 02:01:15</td>\n",
       "      <td>Hey Unihorse 🦄\\nHide my Identity\\nI need to ve...</td>\n",
       "    </tr>\n",
       "    <tr>\n",
       "      <th>4</th>\n",
       "      <td>2024-12-06 02:01:14</td>\n",
       "      <td>Hey Unihorse 🦄\\nHide my Identity\\nI need to ve...</td>\n",
       "    </tr>\n",
       "  </tbody>\n",
       "</table>\n",
       "</div>"
      ],
      "text/plain": [
       "                  date                                            message\n",
       "0  2024-12-06 02:01:20  Hey Unihorse 🦄\\nHide my Identity\\nI need to ve...\n",
       "1  2024-12-06 02:01:20  Hey Unihorse 🦄\\nHide my Identity\\nI need to ve...\n",
       "2  2024-12-06 02:01:18  Hey Unihorse 🦄\\nHide my Identity\\nI need to ve...\n",
       "3  2024-12-06 02:01:15  Hey Unihorse 🦄\\nHide my Identity\\nI need to ve...\n",
       "4  2024-12-06 02:01:14  Hey Unihorse 🦄\\nHide my Identity\\nI need to ve..."
      ]
     },
     "execution_count": 5,
     "metadata": {},
     "output_type": "execute_result"
    }
   ],
   "source": [
    "df.head()"
   ]
  },
  {
   "cell_type": "code",
   "execution_count": 6,
   "metadata": {},
   "outputs": [
    {
     "data": {
      "text/html": [
       "<div>\n",
       "<style scoped>\n",
       "    .dataframe tbody tr th:only-of-type {\n",
       "        vertical-align: middle;\n",
       "    }\n",
       "\n",
       "    .dataframe tbody tr th {\n",
       "        vertical-align: top;\n",
       "    }\n",
       "\n",
       "    .dataframe thead th {\n",
       "        text-align: right;\n",
       "    }\n",
       "</style>\n",
       "<table border=\"1\" class=\"dataframe\">\n",
       "  <thead>\n",
       "    <tr style=\"text-align: right;\">\n",
       "      <th></th>\n",
       "      <th>date</th>\n",
       "      <th>message</th>\n",
       "    </tr>\n",
       "  </thead>\n",
       "  <tbody>\n",
       "    <tr>\n",
       "      <th>21262</th>\n",
       "      <td>2017-05-28 02:44:35</td>\n",
       "      <td>Hey unihorse 🐴.\\nPlease hide my identity.\\nHer...</td>\n",
       "    </tr>\n",
       "    <tr>\n",
       "      <th>21263</th>\n",
       "      <td>2017-05-27 15:48:49</td>\n",
       "      <td>Hey unihorse 🐴\\nHide my identity.\\nI got a con...</td>\n",
       "    </tr>\n",
       "    <tr>\n",
       "      <th>21264</th>\n",
       "      <td>2017-05-27 15:37:51</td>\n",
       "      <td>Hey unihorse 🐴.\\nHide my identity.\\nI have a c...</td>\n",
       "    </tr>\n",
       "    <tr>\n",
       "      <th>21265</th>\n",
       "      <td>2017-05-27 14:36:54</td>\n",
       "      <td>A place to ask for advice, look for comfort or...</td>\n",
       "    </tr>\n",
       "    <tr>\n",
       "      <th>21266</th>\n",
       "      <td>2017-05-27 14:17:47</td>\n",
       "      <td>[Media or Non-Text Message]</td>\n",
       "    </tr>\n",
       "  </tbody>\n",
       "</table>\n",
       "</div>"
      ],
      "text/plain": [
       "                      date                                            message\n",
       "21262  2017-05-28 02:44:35  Hey unihorse 🐴.\\nPlease hide my identity.\\nHer...\n",
       "21263  2017-05-27 15:48:49  Hey unihorse 🐴\\nHide my identity.\\nI got a con...\n",
       "21264  2017-05-27 15:37:51  Hey unihorse 🐴.\\nHide my identity.\\nI have a c...\n",
       "21265  2017-05-27 14:36:54  A place to ask for advice, look for comfort or...\n",
       "21266  2017-05-27 14:17:47                        [Media or Non-Text Message]"
      ]
     },
     "execution_count": 6,
     "metadata": {},
     "output_type": "execute_result"
    }
   ],
   "source": [
    "df.tail()"
   ]
  },
  {
   "cell_type": "code",
   "execution_count": 7,
   "metadata": {},
   "outputs": [
    {
     "data": {
      "text/plain": [
       "(21267, 2)"
      ]
     },
     "execution_count": 7,
     "metadata": {},
     "output_type": "execute_result"
    }
   ],
   "source": [
    "df.shape"
   ]
  },
  {
   "cell_type": "markdown",
   "metadata": {},
   "source": [
    "## The target Column(message) is not clean, we will clean it."
   ]
  },
  {
   "cell_type": "markdown",
   "metadata": {},
   "source": [
    "### Let's understand it first"
   ]
  },
  {
   "cell_type": "code",
   "execution_count": 8,
   "metadata": {},
   "outputs": [
    {
     "data": {
      "text/plain": [
       "\"Hey Unihorse 🦄\\nHide my Identity\\nI need to vent\\nGenuineee question here. I'm 19F and...all my life I have never been in any relationship( ik it's not the appropriate age to be in one either... for the most part)  And looking at my peers around me, going on multiple dates, having too many exes and stuff, I wonder...HOW TF DO YALL GET BF OR GF? Like seriously! Does it...just...happen? Idk, maybe it's because I've been obsessed with books(specifically fiction), and I'm more of an idealistic person than realistic... But I really don't get it. I always think like...there is a special moment where the man sees the woman and he falls for her and he will just try his best to win her or the woman is unrelenting and she will not stop pestering him until he eventually finds himself in love with her (oh...I forgot to mention I'm delusional too☺️) I believed it is how it always happens. But now...I'm in uni and...I see all these people dating and mnamn and I feel like... is that how it always happens? Because if it is, I'm done for😂 I'm not exactly introverted but...I have this bad habit of not wanting to leave my comfort zone. Plus, I'm extremely paranoid (I sometimes want to blame all those thriller books I read, but I enjoyed them a little bit too much to do that), and emotional intimacy doesn't come easily for me. And that is a major thing in rship. Even tho I get along with everyone around me easily, I don't let anybody pass my emotional boundaries, and I don't like sharing my past and all. My 2 close friends are...those I knew when I was Grade 7 and 10 mnamn ena even they don't know much about me more than I let them on. Ena, I feel like with my delulu and paranoid mind(🙂) I am not ever gonna get a bf. Ena...yall how do you get in a relationship? Is it really like how books and movies exaggerate it like?\\n\\n#Relationship #Adult \\n[Telegram](https://t.me/vent_here) • [Instagram](https://instagram.com/vent.here.official) • [Twitter](https://twitter.com/vent_right_here)\""
      ]
     },
     "execution_count": 8,
     "metadata": {},
     "output_type": "execute_result"
    }
   ],
   "source": [
    "df.iloc[1]['message']"
   ]
  },
  {
   "cell_type": "markdown",
   "metadata": {},
   "source": [
    "### Now we remove emojis from the text column"
   ]
  },
  {
   "cell_type": "code",
   "execution_count": 9,
   "metadata": {},
   "outputs": [
    {
     "data": {
      "text/html": [
       "<div>\n",
       "<style scoped>\n",
       "    .dataframe tbody tr th:only-of-type {\n",
       "        vertical-align: middle;\n",
       "    }\n",
       "\n",
       "    .dataframe tbody tr th {\n",
       "        vertical-align: top;\n",
       "    }\n",
       "\n",
       "    .dataframe thead th {\n",
       "        text-align: right;\n",
       "    }\n",
       "</style>\n",
       "<table border=\"1\" class=\"dataframe\">\n",
       "  <thead>\n",
       "    <tr style=\"text-align: right;\">\n",
       "      <th></th>\n",
       "      <th>date</th>\n",
       "      <th>message</th>\n",
       "    </tr>\n",
       "  </thead>\n",
       "  <tbody>\n",
       "    <tr>\n",
       "      <th>0</th>\n",
       "      <td>2024-12-06 02:01:20</td>\n",
       "      <td>Hey Unihorse \\nHide my Identity\\nI need to ven...</td>\n",
       "    </tr>\n",
       "    <tr>\n",
       "      <th>1</th>\n",
       "      <td>2024-12-06 02:01:20</td>\n",
       "      <td>Hey Unihorse \\nHide my Identity\\nI need to ven...</td>\n",
       "    </tr>\n",
       "    <tr>\n",
       "      <th>2</th>\n",
       "      <td>2024-12-06 02:01:18</td>\n",
       "      <td>Hey Unihorse \\nHide my Identity\\nI need to ven...</td>\n",
       "    </tr>\n",
       "    <tr>\n",
       "      <th>3</th>\n",
       "      <td>2024-12-06 02:01:15</td>\n",
       "      <td>Hey Unihorse \\nHide my Identity\\nI need to ven...</td>\n",
       "    </tr>\n",
       "    <tr>\n",
       "      <th>4</th>\n",
       "      <td>2024-12-06 02:01:14</td>\n",
       "      <td>Hey Unihorse \\nHide my Identity\\nI need to ven...</td>\n",
       "    </tr>\n",
       "  </tbody>\n",
       "</table>\n",
       "</div>"
      ],
      "text/plain": [
       "                  date                                            message\n",
       "0  2024-12-06 02:01:20  Hey Unihorse \\nHide my Identity\\nI need to ven...\n",
       "1  2024-12-06 02:01:20  Hey Unihorse \\nHide my Identity\\nI need to ven...\n",
       "2  2024-12-06 02:01:18  Hey Unihorse \\nHide my Identity\\nI need to ven...\n",
       "3  2024-12-06 02:01:15  Hey Unihorse \\nHide my Identity\\nI need to ven...\n",
       "4  2024-12-06 02:01:14  Hey Unihorse \\nHide my Identity\\nI need to ven..."
      ]
     },
     "execution_count": 9,
     "metadata": {},
     "output_type": "execute_result"
    }
   ],
   "source": [
    "remove_emojis(df, 'message')\n",
    "df.head()"
   ]
  },
  {
   "cell_type": "code",
   "execution_count": 10,
   "metadata": {},
   "outputs": [
    {
     "data": {
      "text/html": [
       "<div>\n",
       "<style scoped>\n",
       "    .dataframe tbody tr th:only-of-type {\n",
       "        vertical-align: middle;\n",
       "    }\n",
       "\n",
       "    .dataframe tbody tr th {\n",
       "        vertical-align: top;\n",
       "    }\n",
       "\n",
       "    .dataframe thead th {\n",
       "        text-align: right;\n",
       "    }\n",
       "</style>\n",
       "<table border=\"1\" class=\"dataframe\">\n",
       "  <thead>\n",
       "    <tr style=\"text-align: right;\">\n",
       "      <th></th>\n",
       "      <th>date</th>\n",
       "      <th>message</th>\n",
       "    </tr>\n",
       "  </thead>\n",
       "  <tbody>\n",
       "    <tr>\n",
       "      <th>21262</th>\n",
       "      <td>2017-05-28 02:44:35</td>\n",
       "      <td>Hey unihorse .\\nPlease hide my identity.\\nHere...</td>\n",
       "    </tr>\n",
       "    <tr>\n",
       "      <th>21263</th>\n",
       "      <td>2017-05-27 15:48:49</td>\n",
       "      <td>Hey unihorse \\nHide my identity.\\nI got a conf...</td>\n",
       "    </tr>\n",
       "    <tr>\n",
       "      <th>21264</th>\n",
       "      <td>2017-05-27 15:37:51</td>\n",
       "      <td>Hey unihorse .\\nHide my identity.\\nI have a co...</td>\n",
       "    </tr>\n",
       "    <tr>\n",
       "      <th>21265</th>\n",
       "      <td>2017-05-27 14:36:54</td>\n",
       "      <td>A place to ask for advice, look for comfort or...</td>\n",
       "    </tr>\n",
       "    <tr>\n",
       "      <th>21266</th>\n",
       "      <td>2017-05-27 14:17:47</td>\n",
       "      <td>[Media or Non-Text Message]</td>\n",
       "    </tr>\n",
       "  </tbody>\n",
       "</table>\n",
       "</div>"
      ],
      "text/plain": [
       "                      date                                            message\n",
       "21262  2017-05-28 02:44:35  Hey unihorse .\\nPlease hide my identity.\\nHere...\n",
       "21263  2017-05-27 15:48:49  Hey unihorse \\nHide my identity.\\nI got a conf...\n",
       "21264  2017-05-27 15:37:51  Hey unihorse .\\nHide my identity.\\nI have a co...\n",
       "21265  2017-05-27 14:36:54  A place to ask for advice, look for comfort or...\n",
       "21266  2017-05-27 14:17:47                        [Media or Non-Text Message]"
      ]
     },
     "execution_count": 10,
     "metadata": {},
     "output_type": "execute_result"
    }
   ],
   "source": [
    "df.tail()"
   ]
  },
  {
   "cell_type": "markdown",
   "metadata": {},
   "source": [
    "### Now let's try to remove the first two sentences from the text column as they all are the same"
   ]
  },
  {
   "cell_type": "code",
   "execution_count": 12,
   "metadata": {},
   "outputs": [],
   "source": [
    "df['message'] = df['message'].apply(process_text)"
   ]
  },
  {
   "cell_type": "code",
   "execution_count": 15,
   "metadata": {},
   "outputs": [
    {
     "data": {
      "text/html": [
       "<div>\n",
       "<style scoped>\n",
       "    .dataframe tbody tr th:only-of-type {\n",
       "        vertical-align: middle;\n",
       "    }\n",
       "\n",
       "    .dataframe tbody tr th {\n",
       "        vertical-align: top;\n",
       "    }\n",
       "\n",
       "    .dataframe thead th {\n",
       "        text-align: right;\n",
       "    }\n",
       "</style>\n",
       "<table border=\"1\" class=\"dataframe\">\n",
       "  <thead>\n",
       "    <tr style=\"text-align: right;\">\n",
       "      <th></th>\n",
       "      <th>date</th>\n",
       "      <th>message</th>\n",
       "    </tr>\n",
       "  </thead>\n",
       "  <tbody>\n",
       "    <tr>\n",
       "      <th>0</th>\n",
       "      <td>2024-12-06 02:01:20</td>\n",
       "      <td>I need to vent\\nHey unicorn \\nI just wanna ven...</td>\n",
       "    </tr>\n",
       "    <tr>\n",
       "      <th>1</th>\n",
       "      <td>2024-12-06 02:01:20</td>\n",
       "      <td>I need to vent\\nGenuineee question here. I'm 1...</td>\n",
       "    </tr>\n",
       "    <tr>\n",
       "      <th>2</th>\n",
       "      <td>2024-12-06 02:01:18</td>\n",
       "      <td>I need to vent\\nOhhh I know am gone get judged...</td>\n",
       "    </tr>\n",
       "    <tr>\n",
       "      <th>3</th>\n",
       "      <td>2024-12-06 02:01:15</td>\n",
       "      <td>I need to vent\\nHey there endet nachu , \\n\\nAm...</td>\n",
       "    </tr>\n",
       "    <tr>\n",
       "      <th>4</th>\n",
       "      <td>2024-12-06 02:01:14</td>\n",
       "      <td>I need to vent\\nHello\\nI'm 26 M\\nThere’s a dee...</td>\n",
       "    </tr>\n",
       "    <tr>\n",
       "      <th>5</th>\n",
       "      <td>2024-12-06 02:01:13</td>\n",
       "      <td>I need to vent\\nIam here to vent \\nfemale\\nEna...</td>\n",
       "    </tr>\n",
       "    <tr>\n",
       "      <th>6</th>\n",
       "      <td>2024-12-06 02:01:12</td>\n",
       "      <td>I need to vent\\nfirst time venting \\nHello guy...</td>\n",
       "    </tr>\n",
       "    <tr>\n",
       "      <th>7</th>\n",
       "      <td>2024-12-06 02:01:11</td>\n",
       "      <td>I need to vent\\nWhy did you come back to my li...</td>\n",
       "    </tr>\n",
       "    <tr>\n",
       "      <th>8</th>\n",
       "      <td>2024-12-06 02:01:09</td>\n",
       "      <td>I need to vent\\nHey yall so straight to the po...</td>\n",
       "    </tr>\n",
       "    <tr>\n",
       "      <th>9</th>\n",
       "      <td>2024-12-06 02:01:07</td>\n",
       "      <td>I need to vent\\nHello, hope everyone is fine i...</td>\n",
       "    </tr>\n",
       "  </tbody>\n",
       "</table>\n",
       "</div>"
      ],
      "text/plain": [
       "                  date                                            message\n",
       "0  2024-12-06 02:01:20  I need to vent\\nHey unicorn \\nI just wanna ven...\n",
       "1  2024-12-06 02:01:20  I need to vent\\nGenuineee question here. I'm 1...\n",
       "2  2024-12-06 02:01:18  I need to vent\\nOhhh I know am gone get judged...\n",
       "3  2024-12-06 02:01:15  I need to vent\\nHey there endet nachu , \\n\\nAm...\n",
       "4  2024-12-06 02:01:14  I need to vent\\nHello\\nI'm 26 M\\nThere’s a dee...\n",
       "5  2024-12-06 02:01:13  I need to vent\\nIam here to vent \\nfemale\\nEna...\n",
       "6  2024-12-06 02:01:12  I need to vent\\nfirst time venting \\nHello guy...\n",
       "7  2024-12-06 02:01:11  I need to vent\\nWhy did you come back to my li...\n",
       "8  2024-12-06 02:01:09  I need to vent\\nHey yall so straight to the po...\n",
       "9  2024-12-06 02:01:07  I need to vent\\nHello, hope everyone is fine i..."
      ]
     },
     "execution_count": 15,
     "metadata": {},
     "output_type": "execute_result"
    }
   ],
   "source": [
    "df.head(10)"
   ]
  },
  {
   "cell_type": "markdown",
   "metadata": {},
   "source": [
    "### shape of the dataframe before the non-english rows removal"
   ]
  },
  {
   "cell_type": "code",
   "execution_count": 16,
   "metadata": {},
   "outputs": [
    {
     "data": {
      "text/plain": [
       "(21267, 2)"
      ]
     },
     "execution_count": 16,
     "metadata": {},
     "output_type": "execute_result"
    }
   ],
   "source": [
    "df.shape"
   ]
  },
  {
   "cell_type": "markdown",
   "metadata": {},
   "source": [
    "## Let's Remove non-english content from the text column"
   ]
  },
  {
   "cell_type": "code",
   "execution_count": 17,
   "metadata": {},
   "outputs": [],
   "source": [
    "english_df = remove_non_english_rows(df, 'message')"
   ]
  },
  {
   "cell_type": "markdown",
   "metadata": {},
   "source": [
    "### shape of the dataframe after removing non-english rows"
   ]
  },
  {
   "cell_type": "code",
   "execution_count": 18,
   "metadata": {},
   "outputs": [
    {
     "data": {
      "text/plain": [
       "(20571, 2)"
      ]
     },
     "execution_count": 18,
     "metadata": {},
     "output_type": "execute_result"
    }
   ],
   "source": [
    "english_df.shape"
   ]
  },
  {
   "cell_type": "code",
   "execution_count": 20,
   "metadata": {},
   "outputs": [],
   "source": [
    "english_df.to_csv('../data/cleaned_messages.csv', index=False)"
   ]
  }
 ],
 "metadata": {
  "kernelspec": {
   "display_name": "venv",
   "language": "python",
   "name": "python3"
  },
  "language_info": {
   "codemirror_mode": {
    "name": "ipython",
    "version": 3
   },
   "file_extension": ".py",
   "mimetype": "text/x-python",
   "name": "python",
   "nbconvert_exporter": "python",
   "pygments_lexer": "ipython3",
   "version": "3.8.0"
  }
 },
 "nbformat": 4,
 "nbformat_minor": 2
}
